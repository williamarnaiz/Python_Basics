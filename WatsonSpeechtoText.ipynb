{
 "cells": [
  {
   "cell_type": "code",
   "execution_count": 46,
   "metadata": {},
   "outputs": [
    {
     "ename": "TypeError",
     "evalue": "__init__() got an unexpected keyword argument 'url'",
     "output_type": "error",
     "traceback": [
      "\u001b[0;31m---------------------------------------------------------------------------\u001b[0m",
      "\u001b[0;31mTypeError\u001b[0m                                 Traceback (most recent call last)",
      "\u001b[0;32m<ipython-input-46-91b48bb922a6>\u001b[0m in \u001b[0;36m<module>\u001b[0;34m\u001b[0m\n\u001b[1;32m      9\u001b[0m \u001b[0;31m#set_disable_ssl_verification(self, status = True)\u001b[0m\u001b[0;34m\u001b[0m\u001b[0;34m\u001b[0m\u001b[0;34m\u001b[0m\u001b[0m\n\u001b[1;32m     10\u001b[0m \u001b[0;31m#help(SpeechToTextV1)\u001b[0m\u001b[0;34m\u001b[0m\u001b[0;34m\u001b[0m\u001b[0;34m\u001b[0m\u001b[0m\n\u001b[0;32m---> 11\u001b[0;31m \u001b[0ms2t\u001b[0m \u001b[0;34m=\u001b[0m \u001b[0mspeech\u001b[0m\u001b[0;34m(\u001b[0m\u001b[0murl\u001b[0m \u001b[0;34m=\u001b[0m \u001b[0murl_s2t\u001b[0m\u001b[0;34m,\u001b[0m \u001b[0miam_apikey\u001b[0m \u001b[0;34m=\u001b[0m \u001b[0miam_apikey_s2t\u001b[0m\u001b[0;34m)\u001b[0m\u001b[0;34m\u001b[0m\u001b[0;34m\u001b[0m\u001b[0m\n\u001b[0m\u001b[1;32m     12\u001b[0m \u001b[0;34m\u001b[0m\u001b[0m\n\u001b[1;32m     13\u001b[0m \u001b[0mfilename\u001b[0m \u001b[0;34m=\u001b[0m \u001b[0;34m'hello_this_is_python.wav'\u001b[0m\u001b[0;34m\u001b[0m\u001b[0;34m\u001b[0m\u001b[0m\n",
      "\u001b[0;31mTypeError\u001b[0m: __init__() got an unexpected keyword argument 'url'"
     ]
    }
   ],
   "source": [
    "#API Keys and endpoints\n",
    "\n",
    "#Watson Speech to Text API\n",
    "\n",
    "from ibm_watson import SpeechToTextV1 as speech\n",
    "\n",
    "url_s2t = \"https://api.us-south.speech-to-text.watson.cloud.ibm.com/instances/490573a4-4ccd-4aec-9abc-20bb92ed3977\"\n",
    "iam_apikey_s2t = \"8lXot_G8tTDIyOa1VToFkd5UemeNkEDtOMYTZMFKdlxW\"\n",
    "#set_disable_ssl_verification(self, status = True)\n",
    "#help(SpeechToTextV1)\n",
    "s2t = speech(url = url_s2t, iam_apikey = iam_apikey_s2t)\n",
    "\n",
    "filename = 'hello_this_is_python.wav'\n",
    "\n",
    "with open(filename, mode=\"rb\") as wav:\n",
    "    response = s2t.recognize(audio=wave, content_type='audio/wav')\n",
    "\n",
    "response.result\n",
    "\n",
    "recognized_text=response.result['results'][0]['alternatives'][0]['transcript']\n",
    "\n",
    "from ibm_watson import LanguageTranslatorV3\n",
    "\n",
    "url_lt = 'https://api.us-south.language-translator.watson.cloud.ibm.com/instances/e905b9e0-22a0-42f2-b4c9-a5d501538e1f'\n",
    "apikey_lt = 'imigD8NNgc_tfQQTAkwzU5qDPjLiRYjznwZGcNDMSq9l'\n",
    "\n"
   ]
  },
  {
   "cell_type": "code",
   "execution_count": null,
   "metadata": {},
   "outputs": [],
   "source": []
  }
 ],
 "metadata": {
  "kernelspec": {
   "display_name": "Python 3",
   "language": "python",
   "name": "python3"
  },
  "language_info": {
   "codemirror_mode": {
    "name": "ipython",
    "version": 3
   },
   "file_extension": ".py",
   "mimetype": "text/x-python",
   "name": "python",
   "nbconvert_exporter": "python",
   "pygments_lexer": "ipython3",
   "version": "3.7.6"
  }
 },
 "nbformat": 4,
 "nbformat_minor": 4
}
